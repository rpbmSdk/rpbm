{
 "cells": [
  {
   "cell_type": "code",
   "execution_count": null,
   "metadata": {},
   "outputs": [],
   "source": [
    "from xglass import *\n",
    "from pprint import pprint\n",
    "xglass = XGLASS()\n",
    "import dotenv\n",
    "dotenv.load_dotenv()\n",
    "try:\n",
    "    r = xglass.auth(os.environ['XGLASS_USER'], os.environ['XGLASS_PASS'])\n",
    "except Exception as e:\n",
    "    print(e)\n",
    "    xglass.auth(os.environ['XGLASS_USER'], os.environ['XGLASS_PASS'])\n",
    "    \n",
    "try:\n",
    "    vehicules = xglass.searchVehiculeImmat('ez817mg')\n",
    "except Exception as e:\n",
    "    print(e)\n",
    "    vehicules = []\n",
    "\n",
    "vehicules"
   ]
  },
  {
   "cell_type": "code",
   "execution_count": null,
   "metadata": {},
   "outputs": [],
   "source": [
    "xglass.getVehiculeMeta(vehicules[0].id)"
   ]
  },
  {
   "cell_type": "code",
   "execution_count": null,
   "metadata": {},
   "outputs": [],
   "source": [
    "page = xglass.selectedVehiculePage\n",
    "scripts = page.find_all(\"script\",src=False)\n",
    "def extract_line_value(line, key):\n",
    "    if key in line:\n",
    "        line = line.replace(key, \"\").replace(':', \"\").replace(',', \"\").replace(\"'\", '')\n",
    "        return line.strip()\n",
    "    return None\n",
    "\n",
    "keys = ['vin', 'cnit', 'dateMec']\n",
    "data = {}\n",
    "\n",
    "for script in scripts:\n",
    "    try:\n",
    "        # script = script.text\n",
    "        lines = script.text.splitlines()\n",
    "        for line in lines:\n",
    "            for key in keys:\n",
    "                value = extract_line_value(line, key)\n",
    "                if value:\n",
    "                    data[key] = value\n",
    "                    # break\n",
    "        print(data)\n",
    "        break\n",
    "    except Exception as e:\n",
    "        print(e)\n",
    "data"
   ]
  },
  {
   "cell_type": "code",
   "execution_count": null,
   "metadata": {},
   "outputs": [],
   "source": [
    "scripts = page.find_all(\"script\",src=False)\n",
    "for script in scripts:\n",
    "    if \"RAPID PARE BRISE MARTINIQUE\" in script.text:\n",
    "        # print(script.text)\n",
    "        print(\"found\")\n",
    "        break"
   ]
  },
  {
   "cell_type": "code",
   "execution_count": null,
   "metadata": {},
   "outputs": [],
   "source": [
    "def extract_line_value(line, key):\n",
    "    if key in line:\n",
    "        line = line.replace(key, \"\").replace(':', \"\").replace(',', \"\").replace(\"'\", '')\n",
    "        return line.strip()\n",
    "    return None\n",
    "\n",
    "keys = ['vin', 'cnit', 'dateMec']\n",
    "data = {}\n",
    "lines = script.text.splitlines()\n",
    "for line in lines:\n",
    "    for key in keys:\n",
    "        value = extract_line_value(line, key)\n",
    "        if value:\n",
    "            data[key] = value\n",
    "            # break\n",
    "print(data)\n"
   ]
  },
  {
   "cell_type": "code",
   "execution_count": null,
   "metadata": {},
   "outputs": [],
   "source": [
    "a = \"abc\"\n",
    "b = a.replace(\"a\", \"b\")\n",
    "b\n"
   ]
  },
  {
   "cell_type": "code",
   "execution_count": null,
   "metadata": {},
   "outputs": [],
   "source": [
    "try:\n",
    "    vehicule = vehicules[0]\n",
    "    planche = xglass.getPlancheData(vehicule)\n",
    "    pare_brise = [c for c in planche.xGlassCalques if c.libelle == \"PARE-BRISE\"][0]\n",
    "\n",
    "    xglass.getPieces(planche, pare_brise)\n",
    "    pare_briseElement = xglass.elements_principaux[0]\n",
    "    for pare_brise_piece_avecAM in pare_briseElement.pieces:\n",
    "        pprint(pare_brise_piece_avecAM.eurocode)\n",
    "\n",
    "    pare_brise_piece_avecAM = [piece for piece in pare_briseElement.pieces if piece.eurocode == '861101J110'][0]\n",
    "    pare_brise_piece_sansAM = [piece for piece in pare_briseElement.pieces if piece.eurocode == '861104P010'][0]\n",
    "\n",
    "    pare_brise_piece_avecAMPieces = xglass.getPieceAm(pare_briseElement, pare_brise_piece_avecAM)\n",
    "    pare_brise_piece_sansAMPieces = xglass.getPieceAm(pare_briseElement, pare_brise_piece_sansAM)\n",
    "except Exception as e:\n",
    "    print(e)\n",
    "\n",
    "\n",
    "xglass.close()"
   ]
  },
  {
   "cell_type": "code",
   "execution_count": null,
   "metadata": {},
   "outputs": [],
   "source": [
    "planche.__dict__"
   ]
  },
  {
   "cell_type": "code",
   "execution_count": null,
   "metadata": {},
   "outputs": [],
   "source": [
    "from xglass import *\n",
    "xglass = XGLASS()\n",
    "r = xglass.auth()\n",
    "# print(r.cookies)\n",
    "# r = xglass.get(XGLASS_MAIN_URL)\n",
    "# print(r.cookies)\n",
    "XGLASS_searchImmat = f\"{XGLASS_URL}/ajax/searchImmat.html\"\n",
    "\n",
    "s = xglass.session.get(XGLASS_searchImmat,\n",
    "                        # cookies=r.cookies,\n",
    "    params={\n",
    "        'selectionsCriteres.immatriculation': 'DS808DZ',\n",
    "    }\n",
    ")\n",
    "print(s.text)"
   ]
  },
  {
   "cell_type": "code",
   "execution_count": null,
   "metadata": {},
   "outputs": [],
   "source": [
    "xglass.session.post(XGLASS_searchImmat,\n",
    "                        cookies=r.cookies,\n",
    "    params={\n",
    "        'selectionsCriteres.immatriculation': 'DS808DZ',\n",
    "        'idMarque': None,\n",
    "    }\n",
    ").text"
   ]
  },
  {
   "cell_type": "code",
   "execution_count": null,
   "metadata": {},
   "outputs": [],
   "source": [
    "\n"
   ]
  },
  {
   "cell_type": "code",
   "execution_count": null,
   "metadata": {},
   "outputs": [],
   "source": [
    "print(s.text)"
   ]
  },
  {
   "cell_type": "code",
   "execution_count": null,
   "metadata": {},
   "outputs": [],
   "source": [
    "print(requests.post(XGLASS_searchImmat,\n",
    "    data={\n",
    "        'selectionsCriteres.immatriculation': 'DS808DZ',\n",
    "        # 'idMarque': '',\n",
    "    },\n",
    "    cookies=r.cookies,\n",
    "    headers={\n",
    "        \"accept\": \"text/html,application/xhtml+xml,application/xml\",\n",
    "        \"user-agent\": \"Mozilla/5.0 (X11; Linux x86_64) AppleWebKit/537.36 (KHTML, like Gecko) Chrome/67.0.3396.99 Safari/537.36\",\n",
    "        \"Content-Type\": \"application/x-www-form-urlencoded; charset=UTF-8\",\n",
    "        \"X-Requested-With\": \"XMLHttpRequest\",\n",
    "        \"host\": \"portail-xglass.com\",\n",
    "        \"origin\": \"https://portail-xglass.com\",\n",
    "    }\n",
    ").text)"
   ]
  },
  {
   "cell_type": "code",
   "execution_count": null,
   "metadata": {},
   "outputs": [],
   "source": [
    "XGLASS_modeles = f\"{XGLASS_URL}/ajax/modeles.html\"\n",
    "import json\n",
    "data = {\n",
    "        \"method\": \"list\",\n",
    "        \"marque\": 56,\n",
    "    }\n",
    "r = requests.get(\n",
    "    XGLASS_modeles,\n",
    "    # data={\n",
    "    #     # 'selectionsCriteres.immatriculation': 'DS808DZ',\n",
    "    #     # 'idMarque': '',\n",
    "    #     \"method\": \"list\",\n",
    "    #     \"marque\": 56,\n",
    "    # },\n",
    "    json= json.dumps(data),\n",
    "    cookies=xglass.session.cookies,\n",
    "    headers={\n",
    "        \"accept\": \"*/*\",\n",
    "        \"Content-Type\": \"application/x-www-form-urlencoded; charset=UTF-8\",\n",
    "        \"Host\": \"portail-xglass.com\",\n",
    "        \"Origin\": \"https://portail-xglass.com\",\n",
    "        \"Pragma\": \"no-cache\",\n",
    "        \"referer\": \"https://portail-xglass.com/initRechercheVehicule.html\",\n",
    "        # \"sec-ch-ua\": 'Not A(Brand\";v=\"8\", \"Chromium\";v=\"132\", \"Google Chrome\";v=\"132',\n",
    "        # \"sec-ch-ua-mobile\": \"?0\",\n",
    "        # \"sec-ch-ua-platform\": \"Windows\",\n",
    "        # \"sec-fetch-dest\": \"empty\",\n",
    "        'Sec-Fetch-Dest': 'document',\n",
    "        \"sec-fetch-mode\": \"cors\",\n",
    "        # \"sec-fetch-site\": \"same-origin\",\n",
    "        'Sec-Fetch-Site': 'none',\n",
    "        \"user-agent\": \"Mozilla/5.0 (Windows NT 10.0; Win64; x64) AppleWebKit/537.36 (KHTML, like Gecko) Chrome/132.0.0.0 Safari/537.36\",\n",
    "        \"X-Requested-With\": \"XMLHttpRequest\",\n",
    "    },\n",
    ")\n",
    "print(r.text)"
   ]
  },
  {
   "cell_type": "code",
   "execution_count": null,
   "metadata": {},
   "outputs": [],
   "source": [
    "import pprint\n",
    "# pprint.pprint(r.request.headers)\n",
    "for header in r.headers:\n",
    "    print(header, r.headers[header])\n",
    "# r."
   ]
  },
  {
   "cell_type": "code",
   "execution_count": null,
   "metadata": {},
   "outputs": [],
   "source": [
    "import pandas as pd\n",
    "# pd.DataFrame(s.json())\n",
    "from pprint import pprint\n",
    "pprint(s.json())"
   ]
  },
  {
   "cell_type": "code",
   "execution_count": null,
   "metadata": {},
   "outputs": [],
   "source": [
    "for header in xglass.session.headers:\n",
    "    print(header, xglass.session.headers[header])"
   ]
  },
  {
   "cell_type": "code",
   "execution_count": null,
   "metadata": {},
   "outputs": [],
   "source": [
    "for header in s.headers:\n",
    "    print(header, s.headers[header])"
   ]
  },
  {
   "cell_type": "code",
   "execution_count": null,
   "metadata": {},
   "outputs": [],
   "source": [
    "import requests\n",
    "from xglass import *\n",
    "import bs4 as bs\n",
    "from pprint import pprint\n",
    "\n",
    "session = requests.Session()\n",
    "headers = {\n",
    "        \"accept\": \"text/html,application/xhtml+xml,application/xml\",\n",
    "        \"user-agent\": \"Mozilla/5.0 (X11; Linux x86_64) AppleWebKit/537.36 (KHTML, like Gecko) Chrome/67.0.3396.99 Safari/537.36\",\n",
    "        \"Content-Type\": \"application/x-www-form-urlencoded; charset=UTF-8\",\n",
    "        # \"Content-Type\": \"application/json\",\n",
    "        \"X-Requested-With\": \"XMLHttpRequest\",\n",
    "        \"Host\": \"portail-xglass.com\",\n",
    "        \"Origin\": \"https://portail-xglass.com\",\n",
    "    }\n",
    "session.headers.update(headers)\n",
    "r = session.get(XGLASS_URL)\n",
    "\n",
    "JSESSIONID = session.cookies.get_dict().get(\"JSESSIONID\")\n",
    "\n",
    "r = session.post(\n",
    "    XGLASS_LOGIN_URL,\n",
    "    data={\n",
    "        \"j_username\": XGLASS_USER,\n",
    "        \"j_password\": XGLASS_PASS,\n",
    "        \"spring-security-redirect\": \"/mainMenu.html\",\n",
    "    },\n",
    "    verify=False,\n",
    "    allow_redirects=False,\n",
    ")\n",
    "\n",
    "if session.cookies.get_dict().get(\"JSESSIONID\") == JSESSIONID:\n",
    "    print(\"Login failed\")\n",
    "    session.close()\n",
    "    raise Exception(\"Login failed\")\n",
    "\n",
    "\n"
   ]
  },
  {
   "cell_type": "code",
   "execution_count": null,
   "metadata": {},
   "outputs": [],
   "source": [
    "def ensure_logged(r):\n",
    "    login_form = bs.BeautifulSoup(r.text, \"html.parser\")\n",
    "    if login_form.find(\"form\"):\n",
    "        print(\"Login failed, login_form found\")\n",
    "        session.close()\n",
    "        raise Exception(\"Login failed\")"
   ]
  },
  {
   "cell_type": "code",
   "execution_count": null,
   "metadata": {},
   "outputs": [],
   "source": [
    "r = session.get(XGLASS_MAIN_URL)\n",
    "ensure_logged(r)\n",
    "print(r.text)"
   ]
  },
  {
   "cell_type": "code",
   "execution_count": null,
   "metadata": {},
   "outputs": [],
   "source": [
    "r = session.get('https://portail-xglass.com/initRechercheVehicule.html')\n",
    "ensure_logged(r)\n",
    "print(r.text)"
   ]
  },
  {
   "cell_type": "code",
   "execution_count": null,
   "metadata": {},
   "outputs": [],
   "source": [
    "pprint(r.request.headers.__dict__)"
   ]
  },
  {
   "cell_type": "code",
   "execution_count": null,
   "metadata": {},
   "outputs": [],
   "source": [
    "URL = 'https://portail-xglass.com/monActivite.html'\n",
    "r = session.get(URL,headers={\n",
    "    \"accept\": \"text/html,application/xhtml+xml,application/xml;q=0.9,image/avif,image/webp,image/apng,*/*;q=0.8,application/signed-exchange;v=b3;q=0.7\",\n",
    "    \"user-agent\": \"Mozilla/5.0 (X11; Linux x86_64) AppleWebKit/537.36 (KHTML, like Gecko) Chrome/67.0.3396.99 Safari/537.36\",\n",
    "    \"accept-encoding\":\"gzip, deflate, br, zstd\",\n",
    "    # \"Content-Type\": \"application/x-www-form-urlencoded; charset=UTF-8\",\n",
    "    # \"X-Requested-With\": \"XMLHttpRequest\",\n",
    "    # \"Host\": \"portail-xglass.com\",\n",
    "    # \"Origin\": \"https://portail-xglass.com\",\n",
    "    \n",
    "})\n",
    "ensure_logged(r)\n",
    "print(r.text)"
   ]
  },
  {
   "cell_type": "code",
   "execution_count": null,
   "metadata": {},
   "outputs": [],
   "source": [
    "URL = \"https://portail-xglass.com/ajax/searchImmat.html?selectionsCriteres.immatriculation=DS808DZ&idMarque=\"\n",
    "URL = \"https://portail-xglass.com/ajax/searchImmat.html\"\n",
    "# r = requests.post(\n",
    "r = session.post(\n",
    "    URL,\n",
    "    # params={\n",
    "    #    'selectionsCriteres.immatriculation': 'DS808DZ',\n",
    "    #    'idMarque': '',\n",
    "    # },\n",
    "    data={\n",
    "        'selectionsCriteres.immatriculation': 'DS808DZ',\n",
    "        'idMarque': '',\n",
    "    },\n",
    "    # cookies=session.cookies,\n",
    "    headers={\n",
    "        # \"Accept\": 'text/html,application/xhtml+xml,application/xml;q=0.9,image/avif,image/webp,image/apng,*/*;q=0.8,application/signed-exchange;v=b3;q=0.7',\n",
    "        # \"Accept-Encoding\": \"gzip, deflate, br, zstd\",\n",
    "        # \"Accept-Language\":'en-US,en;q=0.9',\n",
    "        # \"Cache-Control\": \"no-cache\",\n",
    "        # \"Connexion\": \"keep-alive\",\n",
    "        # 'Host':'portail-xglass.com',\n",
    "        # \"Pragma\": \"no-cache\",\n",
    "        # \"Sec-Ch-Ua\": '\"Not A(Brand\";v=\"8\", \"Chromium\";v=\"132\", \"Google Chrome\";v=\"132\"',\n",
    "        # \"Sec-Ch-Ua-Mobile\": \"?0\",\n",
    "        # \"Sec-Ch-Ua-Platform\": \"Windows\",\n",
    "        # # \"Content-Type\": \"application/json;charset=UTF-8\",\n",
    "        # \"Sec-Fetch-Dest\": \"document\",\n",
    "        # \"Sec-Fetch-Mode\": \"navigate\",\n",
    "    #     \"sec-fetch-site\": \"none\",\n",
    "    #     \"sec-fetch-user\": \"?1\",\n",
    "        # \"upgrade-insecure-requests\": \"1\",\n",
    "    },\n",
    "    # cookies={\n",
    "    #     'JSESSIONID':session.cookies.get_dict().get(\"JSESSIONID\"),\n",
    "    #     # 'SameSite':'None',\n",
    "    # }\n",
    ")\n",
    "ensure_logged(r)\n",
    "print(r.text)"
   ]
  },
  {
   "cell_type": "code",
   "execution_count": null,
   "metadata": {},
   "outputs": [],
   "source": [
    "pprint(r.json())"
   ]
  },
  {
   "cell_type": "code",
   "execution_count": null,
   "metadata": {},
   "outputs": [],
   "source": [
    "session.cookies.get_dict().get(\"JSESSIONID\")"
   ]
  },
  {
   "cell_type": "markdown",
   "metadata": {},
   "source": [
    "On arrive à obtenir de la data\n",
    "\n",
    "{\"criteresVariante\":{\"anneesMec\":[2012,2013,2014,2015],\"boites\":[{\"label\":\"196_5\",\"value\":\"196_5\"}],\"carrosseries\":[{\"label\":\"lbl.carrosserie.203_5\",\"value\":\"203_5\"}],\"carrosseriesNbPortesEmpattementHauteur\":[{\"label\":\"203_5\",\"value\":\"203_5\"}],\"cylindrees\":[\"1.2_null\"],\"cylindreesCarburant\":[\"1.2_233\"],\"energies\":[{\"label\":\"Essence\",\"value\":\"233\"}],\"faps\":[0],\"marques\":[{\"codeDarva\":\"HYUN\",\"codeEtai\":\"HYU\",\"groupeMarque\":{\"id\":6,\"marques\":[null,{\"codeDarva\":\"KIA\",\"codeEtai\":\"KIA\",\"groupeMarque\":null,\"id\":77,\"listeDesMarquesExt\":[{\"application\":\"DARVA\",\"code\":\"KIA\",\"id\":882,\"nom\":\"KIA\"},{\"application\":\"HP\",\"code\":null,\"id\":2341,\"nom\":\"KIA\"}],\"nom\":\"KIA\",\"ordre\":2}],\"nom\":\"HYUNDAI-KIA\",\"ordre\":6},\"id\":70,\"listeDesMarquesExt\":[{\"application\":\"HP\",\"code\":null,\"id\":2335,\"nom\":\"HYUNDAI\"},{\"application\":\"DARVA\",\"code\":\"HYUN\",\"id\":798,\"nom\":\"HYUNDAI\"}],\"nom\":\"HYUNDAI\",\"ordre\":2}],\"modeles\":[{\"dateDebut\":\"2009-04-01T00:00:00\",\"dateFin\":\"2015-03-31T00:00:00\",\"gamme\":\"I20\",\"id\":2986,\"imageRef\":\"29105.jpg\",\"marque\":{\"codeDarva\":\"HYUN\",\"codeEtai\":\"HYU\",\"groupeMarque\":{\"id\":6,\"marques\":[null,{\"codeDarva\":\"KIA\",\"codeEtai\":\"KIA\",\"groupeMarque\":null,\"id\":77,\"listeDesMarquesExt\":[{\"application\":\"DARVA\",\"code\":\"KIA\",\"id\":882,\"nom\":\"KIA\"},{\"application\":\"HP\",\"code\":null,\"id\":2341,\"nom\":\"KIA\"}],\"nom\":\"KIA\",\"ordre\":2}],\"nom\":\"HYUNDAI-KIA\",\"ordre\":6},\"id\":70,\"listeDesMarquesExt\":[{\"application\":\"HP\",\"code\":null,\"id\":2335,\"nom\":\"HYUNDAI\"},{\"application\":\"DARVA\",\"code\":\"HYUN\",\"id\":798,\"nom\":\"HYUNDAI\"}],\"nom\":\"HYUNDAI\",\"ordre\":2},\"nom\":\"I20 I (09->15)\",\"ordreGamme\":999,\"serie\":\"I\"}],\"moteurs\":[{\"label\":\"G4LA\",\"value\":\"G4LA\"}],\"phases\":[\"2\"],\"puissanceComs\":[85],\"puissancesFiscales\":[4,5]},\"errorMessage\":null,\"infoMessage\":null,\"regroupementVariantes\":[{\"listeDeVariante\":[{\"alimentation\":188,\"capaciteCarter\":3.5,\"carrosserie\":203,\"cylindreeCm3\":1248,\"cylindreeLit\":\"1.2\",\"cylindresNbr\":4,\"dateDebut\":\"2012-06-01T00:00:00\",\"dateFin\":\"2015-03-31T00:00:00\",\"detailVariante\":[{\"flagWildCard\":0,\"id\":25738041,\"typeDetail\":62,\"valeur\":\"4\",\"variante\":null},{\"flagWildCard\":0,\"id\":25705123,\"typeDetail\":62,\"valeur\":\"5\",\"variante\":null}],\"distributionElement\":null,\"distributionType\":\"PIGNONS\",\"energie\":233,\"essieuMoteur\":112,\"fap\":0,\"id\":397899,\"imageRef\":\"37226.jpg\",\"injection\":null,\"libelleCourt\":\"HYUNDAI I20 I PHASE 2 - 5P 2012-06->2015-03 1.2i 85\",\"modele\":{\"dateDebut\":\"2009-04-01T00:00:00\",\"dateFin\":\"2015-03-31T00:00:00\",\"gamme\":\"I20\",\"id\":2986,\"imageRef\":\"29105.jpg\",\"marque\":{\"codeDarva\":\"HYUN\",\"codeEtai\":\"HYU\",\"groupeMarque\":{\"id\":6,\"marques\":[null,{\"codeDarva\":\"KIA\",\"codeEtai\":\"KIA\",\"groupeMarque\":null,\"id\":77,\"listeDesMarquesExt\":[{\"application\":\"DARVA\",\"code\":\"KIA\",\"id\":882,\"nom\":\"KIA\"},{\"application\":\"HP\",\"code\":null,\"id\":2341,\"nom\":\"KIA\"}],\"nom\":\"KIA\",\"ordre\":2}],\"nom\":\"HYUNDAI-KIA\",\"ordre\":6},\"id\":70,\"listeDesMarquesExt\":[{\"application\":\"HP\",\"code\":null,\"id\":2335,\"nom\":\"HYUNDAI\"},{\"application\":\"DARVA\",\"code\":\"HYUN\",\"id\":798,\"nom\":\"HYUNDAI\"}],\"nom\":\"HYUNDAI\",\"ordre\":2},\"nom\":\"I20 I (09->15)\",\"ordreGamme\":999,\"serie\":\"I\"},\"modeleCommercial\":\"I20 I PHASE 2 - 5P 2012-06->2015-03\",\"nom\":\"1.2i 85\",\"ordre\":null,\"phase\":\"2\",\"portesNbr\":5,\"puissanceCom\":85,\"puissanceKw\":62,\"statut\":null,\"typeBoiteVeitesses\":\"M5EF2\",\"typeEmpattement\":null,\"typeHauteur\":null,\"typeMoteur\":\"G4LA\",\"typeVehicule\":163,\"vitessesBte\":196,\"vitessesNbr\":5}],\"modeleCommercial\":\"I20 I PHASE 2 - 5P 2012-06->2015-03\"}],\"selectionsCriteres\":{\"anneeDeCommercialisation\":null,\"carrosserie\":null,\"criteres\":{},\"cylindreeLit\":null,\"energie\":null,\"idMarque\":null,\"idModele\":null,\"identAdmin\":null,\"immatriculation\":\"DS808DZ\",\"portesNbr\":null,\"puissanceFisc\":null,\"vitessesBte\":null,\"vitessesNbr\":null}}\n",
    "\n",
    " en passant le cookie obtenu dans dans une fenêtre de navigation, il faut que l'utilisateur ait quand même chargé la page 'initRecherche' pour que la requête soit acceptée."
   ]
  },
  {
   "cell_type": "code",
   "execution_count": null,
   "metadata": {},
   "outputs": [],
   "source": [
    "varianteId = 397899\n",
    "r = session.get('https://portail-xglass.com/selectVehicule.html?sessionScopedBean.infoSelectionVehicule.variante.id=%s' %varianteId)\n",
    "print(r.text)"
   ]
  },
  {
   "cell_type": "code",
   "execution_count": null,
   "metadata": {},
   "outputs": [],
   "source": [
    "page = bs.BeautifulSoup(r.text, \"html.parser\")"
   ]
  },
  {
   "cell_type": "code",
   "execution_count": null,
   "metadata": {},
   "outputs": [],
   "source": [
    "scripts = page.find_all(\"script\",src=False)\n",
    "scripts"
   ]
  },
  {
   "cell_type": "code",
   "execution_count": null,
   "metadata": {},
   "outputs": [],
   "source": [
    "\"planche =\" in scripts[3].text"
   ]
  },
  {
   "cell_type": "code",
   "execution_count": null,
   "metadata": {},
   "outputs": [],
   "source": [
    "planche = None\n",
    "for script in scripts:\n",
    "    # print(script.text)\n",
    "    # print(\"planche =\" in script.text)\n",
    "    try:\n",
    "        if \"planche =\" in script.text:\n",
    "            # print(scripts.text)\n",
    "            lines = script.text.splitlines()\n",
    "            # print(lines)\n",
    "            for line in lines:\n",
    "                # print(line)\n",
    "                if \"planche =\" in line:\n",
    "                    raw = line.split(\"planche = \")[1]\n",
    "                    raw = raw.replace(\";\", \"\")\n",
    "                    print(raw)\n",
    "                    # planche = \n",
    "    except:\n",
    "        pass\n",
    "        \n",
    "pprint(planche)"
   ]
  },
  {
   "cell_type": "code",
   "execution_count": null,
   "metadata": {},
   "outputs": [],
   "source": [
    "import json\n",
    "json.loads(raw)"
   ]
  },
  {
   "cell_type": "code",
   "execution_count": null,
   "metadata": {},
   "outputs": [],
   "source": [
    "LOGOUT_URL = 'https://portail-xglass.com/logout.html'\n",
    "r = session.get(LOGOUT_URL)\n",
    "print(r.text)"
   ]
  },
  {
   "cell_type": "code",
   "execution_count": null,
   "metadata": {},
   "outputs": [],
   "source": [
    "from xglass import *\n",
    "from pprint import pprint\n",
    "xglass = XGLASS()\n",
    "r = xglass.auth()\n",
    "try:\n",
    "    # xglass.close()\n",
    "    vehicules = xglass.searchVehiculeImmat('EZ817MG')\n",
    "    vehicule = vehicules[0]\n",
    "    # pprint(vehicule.__dict__)\n",
    "    planche = xglass.getPlancheData(vehicule)\n",
    "    pare_brise = [c for c in planche.xGlassCalques if c.libelle == \"PARE-BRISE\"][0]\n",
    "    # print(pare_brise.__dict__)\n",
    "    # r = xglass.affichagePieces(planche, pare_brise)\n",
    "    xglass.getPieces(planche, pare_brise)\n",
    "    pare_briseElement = xglass.elements_principaux[0]\n",
    "    for pare_brise_piece_avecAM in pare_briseElement.pieces:\n",
    "        pprint(pare_brise_piece_avecAM.eurocode)\n",
    "\n",
    "    pare_brise_piece_avecAM = [piece for piece in pare_briseElement.pieces if piece.eurocode == '861101J110'][0]\n",
    "    pare_brise_piece_sansAM = [piece for piece in pare_briseElement.pieces if piece.eurocode == '861104P010'][0]\n",
    "\n",
    "    pare_brise_piece_avecAMPieces = xglass.getPieceAm(pare_briseElement, pare_brise_piece_avecAM)\n",
    "    pare_brise_piece_sansAMPieces = xglass.getPieceAm(pare_briseElement, pare_brise_piece_sansAM)\n",
    "    # pare_brise_AMPieces = xglass.getPieceAm(pare_briseElement)\n",
    "except Exception as e:\n",
    "    print(e)\n",
    "# xglass.close()\n",
    "\n",
    "\n",
    "\n",
    "xglass.close()"
   ]
  },
  {
   "cell_type": "code",
   "execution_count": null,
   "metadata": {},
   "outputs": [],
   "source": [
    "a = pare_brise_piece_avecAMPieces[0]\n",
    "a.id"
   ]
  },
  {
   "cell_type": "code",
   "execution_count": null,
   "metadata": {},
   "outputs": [],
   "source": []
  },
  {
   "cell_type": "code",
   "execution_count": null,
   "metadata": {},
   "outputs": [],
   "source": [
    "pprint(pare_brise_piece_avecAMPieces[0].__dict__)"
   ]
  },
  {
   "cell_type": "code",
   "execution_count": null,
   "metadata": {},
   "outputs": [],
   "source": [
    "pare_brise_piece_avecAMPieces"
   ]
  },
  {
   "cell_type": "code",
   "execution_count": null,
   "metadata": {},
   "outputs": [],
   "source": [
    "r = xglass.findSelectionsPiecesAmView(pare_briseElement, pare_brise_piece_sansAM)\n",
    "pprint(r.json())"
   ]
  },
  {
   "cell_type": "code",
   "execution_count": null,
   "metadata": {},
   "outputs": [],
   "source": [
    "r.json()['selectionsPiecesAmView']"
   ]
  },
  {
   "cell_type": "code",
   "execution_count": null,
   "metadata": {},
   "outputs": [],
   "source": [
    "r = xglass.findSelectionsPiecesAmView(pare_briseElement, pare_brise_piece_avecAM)\n",
    "pprint(r.json())"
   ]
  },
  {
   "cell_type": "code",
   "execution_count": null,
   "metadata": {},
   "outputs": [],
   "source": [
    "r = xglass.findSelectionsPiecesAmView(pare_briseElement)\n",
    "pprint(r.json())"
   ]
  },
  {
   "cell_type": "code",
   "execution_count": null,
   "metadata": {},
   "outputs": [],
   "source": [
    "xglass.close()"
   ]
  },
  {
   "cell_type": "code",
   "execution_count": null,
   "metadata": {},
   "outputs": [],
   "source": [
    "pare_briseElement = xglass.elements_principaux[0]\n",
    "for pare_brise_piece_avecAM in pare_briseElement.pieces:\n",
    "    pprint(pare_brise_piece_avecAM.eurocode)\n",
    "    # xglass.getPiece(piece)"
   ]
  },
  {
   "cell_type": "code",
   "execution_count": null,
   "metadata": {},
   "outputs": [],
   "source": [
    "pare_brise_piece_avecAM = [piece for piece in pare_briseElement.pieces if piece.eurocode == '861101J110'][0]\n",
    "pare_brise_piece_avecAM.id"
   ]
  },
  {
   "cell_type": "code",
   "execution_count": null,
   "metadata": {},
   "outputs": [],
   "source": [
    "from pprint import pprint\n",
    "for pare_brise_piece_avecAM in xglass.elements_principaux: pprint(pare_brise_piece_avecAM.__dict__)"
   ]
  },
  {
   "cell_type": "code",
   "execution_count": null,
   "metadata": {},
   "outputs": [],
   "source": [
    "xglass"
   ]
  },
  {
   "cell_type": "code",
   "execution_count": null,
   "metadata": {},
   "outputs": [],
   "source": [
    "[pprint(piece.__dict__) for piece in xglass.elements_complementaires] "
   ]
  },
  {
   "cell_type": "code",
   "execution_count": null,
   "metadata": {},
   "outputs": [],
   "source": [
    "r = xglass.session.post('https://portail-xglass.com/affichagePieces.html?planche.id=26881&calque.id=59&filtrageVinButtonClickedForDevisRapide=true')"
   ]
  },
  {
   "cell_type": "code",
   "execution_count": null,
   "metadata": {},
   "outputs": [],
   "source": [
    "print(r.text)"
   ]
  },
  {
   "cell_type": "code",
   "execution_count": null,
   "metadata": {},
   "outputs": [],
   "source": [
    "planche.id"
   ]
  },
  {
   "cell_type": "code",
   "execution_count": null,
   "metadata": {},
   "outputs": [],
   "source": [
    "pare_brise.id"
   ]
  },
  {
   "cell_type": "code",
   "execution_count": null,
   "metadata": {},
   "outputs": [],
   "source": [
    "print(r.request.path_url)"
   ]
  },
  {
   "cell_type": "code",
   "execution_count": null,
   "metadata": {},
   "outputs": [],
   "source": [
    "page = bs.BeautifulSoup(r.text, \"html.parser\")\n",
    "scripts = page.find_all(\"script\",src=False)\n",
    "for script in scripts:\n",
    "    try:\n",
    "        if \"var elementSitMapData =\" in script.text:\n",
    "            lines = script.text.splitlines()\n",
    "    except:\n",
    "        pass\n",
    "for line in lines:\n",
    "    print(line)"
   ]
  },
  {
   "cell_type": "code",
   "execution_count": null,
   "metadata": {},
   "outputs": [],
   "source": [
    "import json\n",
    "for line in lines:\n",
    "    if \"var elementSitMapData =\" in line:\n",
    "        raw = line.split(\"var elementSitMapData = \")[1]\n",
    "        raw = raw.replace(\";\", \"\")\n",
    "        # print(raw)\n",
    "        # planche =\n",
    "        data = json.loads(raw)\n",
    "        break\n",
    "\n",
    "data"
   ]
  },
  {
   "cell_type": "code",
   "execution_count": null,
   "metadata": {},
   "outputs": [],
   "source": [
    "for pare_brise_piece_avecAM in xglass.elements_principaux[0].pieces:\n",
    "    eurocode = pare_brise_piece_avecAM.pieceOe.get('reference')\n",
    "    if eurocode == '861101J110':\n",
    "        break\n",
    "pprint(pare_brise_piece_avecAM.__dict__)\n"
   ]
  },
  {
   "cell_type": "code",
   "execution_count": null,
   "metadata": {},
   "outputs": [],
   "source": [
    "def findSelectionsPiecesAmView(self, element:XGlassElement, piece:XGlassPiece = None):\n",
    "    URL = 'https://portail-xglass.com/ajax/findSelectionsPiecesAmView.html'\n",
    "    data = {\n",
    "        'withPiecesAm':element.withPiecesAm,\n",
    "        'idDevis':''\n",
    "    }\n",
    "    if piece:\n",
    "        data['idPieceOe'] = piece.id\n",
    "    else:\n",
    "        data['idElementSit'] = element.elementSitId\n",
    "\n",
    "    r = self.session.post(\n",
    "        URL,\n",
    "        data=data,\n",
    "    )\n",
    "    return r"
   ]
  },
  {
   "cell_type": "code",
   "execution_count": null,
   "metadata": {},
   "outputs": [],
   "source": []
  }
 ],
 "metadata": {
  "kernelspec": {
   "display_name": "Python 3",
   "language": "python",
   "name": "python3"
  },
  "language_info": {
   "codemirror_mode": {
    "name": "ipython",
    "version": 3
   },
   "file_extension": ".py",
   "mimetype": "text/x-python",
   "name": "python",
   "nbconvert_exporter": "python",
   "pygments_lexer": "ipython3",
   "version": "3.10.11"
  }
 },
 "nbformat": 4,
 "nbformat_minor": 2
}
